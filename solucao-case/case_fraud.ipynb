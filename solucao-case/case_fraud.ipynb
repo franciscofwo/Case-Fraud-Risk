{
 "cells": [
  {
   "cell_type": "code",
   "execution_count": 1,
   "id": "a055d501-966a-4425-9154-318b9ca2c0cf",
   "metadata": {},
   "outputs": [
    {
     "name": "stdout",
     "output_type": "stream",
     "text": [
      "Requirement already satisfied: seaborn in /Library/Frameworks/Python.framework/Versions/3.12/lib/python3.12/site-packages (0.13.2)\n",
      "Requirement already satisfied: numpy!=1.24.0,>=1.20 in /Library/Frameworks/Python.framework/Versions/3.12/lib/python3.12/site-packages (from seaborn) (1.26.4)\n",
      "Requirement already satisfied: pandas>=1.2 in /Library/Frameworks/Python.framework/Versions/3.12/lib/python3.12/site-packages (from seaborn) (2.2.1)\n",
      "Requirement already satisfied: matplotlib!=3.6.1,>=3.4 in /Library/Frameworks/Python.framework/Versions/3.12/lib/python3.12/site-packages (from seaborn) (3.8.4)\n",
      "Requirement already satisfied: contourpy>=1.0.1 in /Library/Frameworks/Python.framework/Versions/3.12/lib/python3.12/site-packages (from matplotlib!=3.6.1,>=3.4->seaborn) (1.2.1)\n",
      "Requirement already satisfied: cycler>=0.10 in /Library/Frameworks/Python.framework/Versions/3.12/lib/python3.12/site-packages (from matplotlib!=3.6.1,>=3.4->seaborn) (0.12.1)\n",
      "Requirement already satisfied: fonttools>=4.22.0 in /Library/Frameworks/Python.framework/Versions/3.12/lib/python3.12/site-packages (from matplotlib!=3.6.1,>=3.4->seaborn) (4.51.0)\n",
      "Requirement already satisfied: kiwisolver>=1.3.1 in /Library/Frameworks/Python.framework/Versions/3.12/lib/python3.12/site-packages (from matplotlib!=3.6.1,>=3.4->seaborn) (1.4.5)\n",
      "Requirement already satisfied: packaging>=20.0 in /Library/Frameworks/Python.framework/Versions/3.12/lib/python3.12/site-packages (from matplotlib!=3.6.1,>=3.4->seaborn) (23.2)\n",
      "Requirement already satisfied: pillow>=8 in /Library/Frameworks/Python.framework/Versions/3.12/lib/python3.12/site-packages (from matplotlib!=3.6.1,>=3.4->seaborn) (10.3.0)\n",
      "Requirement already satisfied: pyparsing>=2.3.1 in /Library/Frameworks/Python.framework/Versions/3.12/lib/python3.12/site-packages (from matplotlib!=3.6.1,>=3.4->seaborn) (3.1.2)\n",
      "Requirement already satisfied: python-dateutil>=2.7 in /Library/Frameworks/Python.framework/Versions/3.12/lib/python3.12/site-packages (from matplotlib!=3.6.1,>=3.4->seaborn) (2.8.2)\n",
      "Requirement already satisfied: pytz>=2020.1 in /Library/Frameworks/Python.framework/Versions/3.12/lib/python3.12/site-packages (from pandas>=1.2->seaborn) (2024.1)\n",
      "Requirement already satisfied: tzdata>=2022.7 in /Library/Frameworks/Python.framework/Versions/3.12/lib/python3.12/site-packages (from pandas>=1.2->seaborn) (2024.1)\n",
      "Requirement already satisfied: six>=1.5 in /Library/Frameworks/Python.framework/Versions/3.12/lib/python3.12/site-packages (from python-dateutil>=2.7->matplotlib!=3.6.1,>=3.4->seaborn) (1.16.0)\n",
      "\n",
      "\u001b[1m[\u001b[0m\u001b[34;49mnotice\u001b[0m\u001b[1;39;49m]\u001b[0m\u001b[39;49m A new release of pip is available: \u001b[0m\u001b[31;49m24.0\u001b[0m\u001b[39;49m -> \u001b[0m\u001b[32;49m24.2\u001b[0m\n",
      "\u001b[1m[\u001b[0m\u001b[34;49mnotice\u001b[0m\u001b[1;39;49m]\u001b[0m\u001b[39;49m To update, run: \u001b[0m\u001b[32;49mpip install --upgrade pip\u001b[0m\n"
     ]
    }
   ],
   "source": [
    "!pip install seaborn"
   ]
  },
  {
   "cell_type": "code",
   "execution_count": 2,
   "id": "02b8a0db-4fba-40ca-92bb-bdcbd369f81f",
   "metadata": {},
   "outputs": [
    {
     "name": "stdout",
     "output_type": "stream",
     "text": [
      "Requirement already satisfied: flask in /Library/Frameworks/Python.framework/Versions/3.12/lib/python3.12/site-packages (3.0.3)\n",
      "Requirement already satisfied: Werkzeug>=3.0.0 in /Library/Frameworks/Python.framework/Versions/3.12/lib/python3.12/site-packages (from flask) (3.0.4)\n",
      "Requirement already satisfied: Jinja2>=3.1.2 in /Library/Frameworks/Python.framework/Versions/3.12/lib/python3.12/site-packages (from flask) (3.1.3)\n",
      "Requirement already satisfied: itsdangerous>=2.1.2 in /Library/Frameworks/Python.framework/Versions/3.12/lib/python3.12/site-packages (from flask) (2.2.0)\n",
      "Requirement already satisfied: click>=8.1.3 in /Library/Frameworks/Python.framework/Versions/3.12/lib/python3.12/site-packages (from flask) (8.1.7)\n",
      "Requirement already satisfied: blinker>=1.6.2 in /Library/Frameworks/Python.framework/Versions/3.12/lib/python3.12/site-packages (from flask) (1.8.2)\n",
      "Requirement already satisfied: MarkupSafe>=2.0 in /Library/Frameworks/Python.framework/Versions/3.12/lib/python3.12/site-packages (from Jinja2>=3.1.2->flask) (2.1.5)\n",
      "\n",
      "\u001b[1m[\u001b[0m\u001b[34;49mnotice\u001b[0m\u001b[1;39;49m]\u001b[0m\u001b[39;49m A new release of pip is available: \u001b[0m\u001b[31;49m24.0\u001b[0m\u001b[39;49m -> \u001b[0m\u001b[32;49m24.2\u001b[0m\n",
      "\u001b[1m[\u001b[0m\u001b[34;49mnotice\u001b[0m\u001b[1;39;49m]\u001b[0m\u001b[39;49m To update, run: \u001b[0m\u001b[32;49mpip install --upgrade pip\u001b[0m\n"
     ]
    }
   ],
   "source": [
    "!pip install flask"
   ]
  },
  {
   "cell_type": "code",
   "execution_count": null,
   "id": "7cbb935d-d3ce-4700-90de-951b536f03aa",
   "metadata": {},
   "outputs": [],
   "source": []
  },
  {
   "cell_type": "code",
   "execution_count": 3,
   "id": "973870a5-8a2c-4d7a-9ae1-1a7866aa52a4",
   "metadata": {},
   "outputs": [],
   "source": [
    "import pandas as pd\n",
    "import numpy as np\n",
    "import matplotlib.pyplot as plt\n",
    "import seaborn as sns\n",
    "from datetime import datetime, timedelta\n",
    "from flask import Flask, request, jsonify"
   ]
  },
  {
   "cell_type": "code",
   "execution_count": null,
   "id": "e9c34205-b63d-4241-9613-d7e5858e5a9c",
   "metadata": {},
   "outputs": [],
   "source": []
  },
  {
   "cell_type": "markdown",
   "id": "bb861066-53bb-484a-a5db-16ab9f2c7510",
   "metadata": {},
   "source": [
    "# Explonatory Data Analyse (EDA) "
   ]
  },
  {
   "cell_type": "code",
   "execution_count": 4,
   "id": "98dd098b-511b-460c-ab3b-48f446d83169",
   "metadata": {},
   "outputs": [],
   "source": [
    "# Load your dataset\n",
    "data = pd.read_csv(\"transactional-sample.csv\")"
   ]
  },
  {
   "cell_type": "code",
   "execution_count": 5,
   "id": "3adeb20a-3f87-4a7f-94d8-19c4167f782b",
   "metadata": {},
   "outputs": [],
   "source": [
    "data_copy = data.copy()"
   ]
  },
  {
   "cell_type": "code",
   "execution_count": null,
   "id": "28cc989c-4121-4b22-afc4-a725e4f0bb17",
   "metadata": {},
   "outputs": [],
   "source": []
  },
  {
   "cell_type": "markdown",
   "id": "f76711a1-4dac-417a-9b83-5e83c390ea1d",
   "metadata": {},
   "source": [
    "### Visao Geral"
   ]
  },
  {
   "cell_type": "code",
   "execution_count": 6,
   "id": "a32017cd-7686-43bb-b837-bccfcd58887e",
   "metadata": {},
   "outputs": [
    {
     "data": {
      "text/plain": [
       "transaction_id          int64\n",
       "merchant_id             int64\n",
       "user_id                 int64\n",
       "card_number            object\n",
       "transaction_date       object\n",
       "transaction_amount    float64\n",
       "device_id             float64\n",
       "has_cbk                  bool\n",
       "dtype: object"
      ]
     },
     "execution_count": 6,
     "metadata": {},
     "output_type": "execute_result"
    }
   ],
   "source": [
    "data_copy.dtypes"
   ]
  },
  {
   "cell_type": "code",
   "execution_count": 7,
   "id": "2c7b0279-5990-442a-bb9b-63a3eb463c45",
   "metadata": {},
   "outputs": [
    {
     "data": {
      "text/html": [
       "<div>\n",
       "<style scoped>\n",
       "    .dataframe tbody tr th:only-of-type {\n",
       "        vertical-align: middle;\n",
       "    }\n",
       "\n",
       "    .dataframe tbody tr th {\n",
       "        vertical-align: top;\n",
       "    }\n",
       "\n",
       "    .dataframe thead th {\n",
       "        text-align: right;\n",
       "    }\n",
       "</style>\n",
       "<table border=\"1\" class=\"dataframe\">\n",
       "  <thead>\n",
       "    <tr style=\"text-align: right;\">\n",
       "      <th></th>\n",
       "      <th>transaction_id</th>\n",
       "      <th>merchant_id</th>\n",
       "      <th>user_id</th>\n",
       "      <th>card_number</th>\n",
       "      <th>transaction_date</th>\n",
       "      <th>transaction_amount</th>\n",
       "      <th>device_id</th>\n",
       "      <th>has_cbk</th>\n",
       "    </tr>\n",
       "  </thead>\n",
       "  <tbody>\n",
       "    <tr>\n",
       "      <th>0</th>\n",
       "      <td>21320398</td>\n",
       "      <td>29744</td>\n",
       "      <td>97051</td>\n",
       "      <td>434505******9116</td>\n",
       "      <td>2019-12-01T23:16:32.812632</td>\n",
       "      <td>374.56</td>\n",
       "      <td>285475.0</td>\n",
       "      <td>False</td>\n",
       "    </tr>\n",
       "    <tr>\n",
       "      <th>1</th>\n",
       "      <td>21320399</td>\n",
       "      <td>92895</td>\n",
       "      <td>2708</td>\n",
       "      <td>444456******4210</td>\n",
       "      <td>2019-12-01T22:45:37.873639</td>\n",
       "      <td>734.87</td>\n",
       "      <td>497105.0</td>\n",
       "      <td>True</td>\n",
       "    </tr>\n",
       "    <tr>\n",
       "      <th>2</th>\n",
       "      <td>21320400</td>\n",
       "      <td>47759</td>\n",
       "      <td>14777</td>\n",
       "      <td>425850******7024</td>\n",
       "      <td>2019-12-01T22:22:43.021495</td>\n",
       "      <td>760.36</td>\n",
       "      <td>NaN</td>\n",
       "      <td>False</td>\n",
       "    </tr>\n",
       "    <tr>\n",
       "      <th>3</th>\n",
       "      <td>21320401</td>\n",
       "      <td>68657</td>\n",
       "      <td>69758</td>\n",
       "      <td>464296******3991</td>\n",
       "      <td>2019-12-01T21:59:19.797129</td>\n",
       "      <td>2556.13</td>\n",
       "      <td>NaN</td>\n",
       "      <td>True</td>\n",
       "    </tr>\n",
       "    <tr>\n",
       "      <th>4</th>\n",
       "      <td>21320402</td>\n",
       "      <td>54075</td>\n",
       "      <td>64367</td>\n",
       "      <td>650487******6116</td>\n",
       "      <td>2019-12-01T21:30:53.347051</td>\n",
       "      <td>55.36</td>\n",
       "      <td>860232.0</td>\n",
       "      <td>False</td>\n",
       "    </tr>\n",
       "    <tr>\n",
       "      <th>5</th>\n",
       "      <td>21320403</td>\n",
       "      <td>59566</td>\n",
       "      <td>40759</td>\n",
       "      <td>516292******8220</td>\n",
       "      <td>2019-12-01T21:25:53.374213</td>\n",
       "      <td>60.49</td>\n",
       "      <td>192705.0</td>\n",
       "      <td>False</td>\n",
       "    </tr>\n",
       "    <tr>\n",
       "      <th>6</th>\n",
       "      <td>21320404</td>\n",
       "      <td>20917</td>\n",
       "      <td>25661</td>\n",
       "      <td>650485******9310</td>\n",
       "      <td>2019-12-01T21:25:19.532243</td>\n",
       "      <td>318.37</td>\n",
       "      <td>760932.0</td>\n",
       "      <td>False</td>\n",
       "    </tr>\n",
       "    <tr>\n",
       "      <th>7</th>\n",
       "      <td>21320405</td>\n",
       "      <td>56107</td>\n",
       "      <td>81152</td>\n",
       "      <td>650516******9201</td>\n",
       "      <td>2019-12-01T21:24:05.608374</td>\n",
       "      <td>188.68</td>\n",
       "      <td>486.0</td>\n",
       "      <td>True</td>\n",
       "    </tr>\n",
       "    <tr>\n",
       "      <th>8</th>\n",
       "      <td>21320406</td>\n",
       "      <td>56107</td>\n",
       "      <td>81152</td>\n",
       "      <td>650516******9201</td>\n",
       "      <td>2019-12-01T21:13:21.529999</td>\n",
       "      <td>352.77</td>\n",
       "      <td>486.0</td>\n",
       "      <td>True</td>\n",
       "    </tr>\n",
       "    <tr>\n",
       "      <th>9</th>\n",
       "      <td>21320407</td>\n",
       "      <td>56107</td>\n",
       "      <td>81152</td>\n",
       "      <td>650516******9201</td>\n",
       "      <td>2019-12-01T21:04:55.066909</td>\n",
       "      <td>345.68</td>\n",
       "      <td>486.0</td>\n",
       "      <td>True</td>\n",
       "    </tr>\n",
       "    <tr>\n",
       "      <th>10</th>\n",
       "      <td>21320408</td>\n",
       "      <td>36049</td>\n",
       "      <td>90169</td>\n",
       "      <td>470598******5710</td>\n",
       "      <td>2019-12-01T20:48:10.921857</td>\n",
       "      <td>209.05</td>\n",
       "      <td>34672.0</td>\n",
       "      <td>False</td>\n",
       "    </tr>\n",
       "    <tr>\n",
       "      <th>11</th>\n",
       "      <td>21320409</td>\n",
       "      <td>32954</td>\n",
       "      <td>6</td>\n",
       "      <td>428267******9019</td>\n",
       "      <td>2019-12-01T20:44:48.109011</td>\n",
       "      <td>443.90</td>\n",
       "      <td>757451.0</td>\n",
       "      <td>False</td>\n",
       "    </tr>\n",
       "    <tr>\n",
       "      <th>12</th>\n",
       "      <td>21320410</td>\n",
       "      <td>22918</td>\n",
       "      <td>25484</td>\n",
       "      <td>544731******2063</td>\n",
       "      <td>2019-12-01T20:42:48.072667</td>\n",
       "      <td>498.32</td>\n",
       "      <td>152156.0</td>\n",
       "      <td>False</td>\n",
       "    </tr>\n",
       "    <tr>\n",
       "      <th>13</th>\n",
       "      <td>21320411</td>\n",
       "      <td>56107</td>\n",
       "      <td>81152</td>\n",
       "      <td>650516******7004</td>\n",
       "      <td>2019-12-01T20:36:55.091278</td>\n",
       "      <td>32.86</td>\n",
       "      <td>486.0</td>\n",
       "      <td>True</td>\n",
       "    </tr>\n",
       "    <tr>\n",
       "      <th>14</th>\n",
       "      <td>21320412</td>\n",
       "      <td>54</td>\n",
       "      <td>39024</td>\n",
       "      <td>541465******7050</td>\n",
       "      <td>2019-12-01T20:29:10.619095</td>\n",
       "      <td>471.66</td>\n",
       "      <td>727482.0</td>\n",
       "      <td>False</td>\n",
       "    </tr>\n",
       "    <tr>\n",
       "      <th>15</th>\n",
       "      <td>21320413</td>\n",
       "      <td>56107</td>\n",
       "      <td>81669</td>\n",
       "      <td>530033******7110</td>\n",
       "      <td>2019-12-01T20:28:58.300822</td>\n",
       "      <td>31.94</td>\n",
       "      <td>639245.0</td>\n",
       "      <td>False</td>\n",
       "    </tr>\n",
       "    <tr>\n",
       "      <th>16</th>\n",
       "      <td>21320414</td>\n",
       "      <td>81316</td>\n",
       "      <td>79874</td>\n",
       "      <td>230744******1389</td>\n",
       "      <td>2019-12-01T20:18:33.089817</td>\n",
       "      <td>539.91</td>\n",
       "      <td>737369.0</td>\n",
       "      <td>False</td>\n",
       "    </tr>\n",
       "    <tr>\n",
       "      <th>17</th>\n",
       "      <td>21320415</td>\n",
       "      <td>10016</td>\n",
       "      <td>76014</td>\n",
       "      <td>530780******1598</td>\n",
       "      <td>2019-12-01T20:07:06.538570</td>\n",
       "      <td>243.18</td>\n",
       "      <td>305194.0</td>\n",
       "      <td>False</td>\n",
       "    </tr>\n",
       "    <tr>\n",
       "      <th>18</th>\n",
       "      <td>21320416</td>\n",
       "      <td>97583</td>\n",
       "      <td>6434</td>\n",
       "      <td>498401******3796</td>\n",
       "      <td>2019-12-01T19:56:26.207496</td>\n",
       "      <td>396.84</td>\n",
       "      <td>NaN</td>\n",
       "      <td>False</td>\n",
       "    </tr>\n",
       "    <tr>\n",
       "      <th>19</th>\n",
       "      <td>21320417</td>\n",
       "      <td>94325</td>\n",
       "      <td>89366</td>\n",
       "      <td>406669******3532</td>\n",
       "      <td>2019-12-01T19:56:11.691107</td>\n",
       "      <td>527.13</td>\n",
       "      <td>674576.0</td>\n",
       "      <td>False</td>\n",
       "    </tr>\n",
       "  </tbody>\n",
       "</table>\n",
       "</div>"
      ],
      "text/plain": [
       "    transaction_id  merchant_id  user_id       card_number  \\\n",
       "0         21320398        29744    97051  434505******9116   \n",
       "1         21320399        92895     2708  444456******4210   \n",
       "2         21320400        47759    14777  425850******7024   \n",
       "3         21320401        68657    69758  464296******3991   \n",
       "4         21320402        54075    64367  650487******6116   \n",
       "5         21320403        59566    40759  516292******8220   \n",
       "6         21320404        20917    25661  650485******9310   \n",
       "7         21320405        56107    81152  650516******9201   \n",
       "8         21320406        56107    81152  650516******9201   \n",
       "9         21320407        56107    81152  650516******9201   \n",
       "10        21320408        36049    90169  470598******5710   \n",
       "11        21320409        32954        6  428267******9019   \n",
       "12        21320410        22918    25484  544731******2063   \n",
       "13        21320411        56107    81152  650516******7004   \n",
       "14        21320412           54    39024  541465******7050   \n",
       "15        21320413        56107    81669  530033******7110   \n",
       "16        21320414        81316    79874  230744******1389   \n",
       "17        21320415        10016    76014  530780******1598   \n",
       "18        21320416        97583     6434  498401******3796   \n",
       "19        21320417        94325    89366  406669******3532   \n",
       "\n",
       "              transaction_date  transaction_amount  device_id  has_cbk  \n",
       "0   2019-12-01T23:16:32.812632              374.56   285475.0    False  \n",
       "1   2019-12-01T22:45:37.873639              734.87   497105.0     True  \n",
       "2   2019-12-01T22:22:43.021495              760.36        NaN    False  \n",
       "3   2019-12-01T21:59:19.797129             2556.13        NaN     True  \n",
       "4   2019-12-01T21:30:53.347051               55.36   860232.0    False  \n",
       "5   2019-12-01T21:25:53.374213               60.49   192705.0    False  \n",
       "6   2019-12-01T21:25:19.532243              318.37   760932.0    False  \n",
       "7   2019-12-01T21:24:05.608374              188.68      486.0     True  \n",
       "8   2019-12-01T21:13:21.529999              352.77      486.0     True  \n",
       "9   2019-12-01T21:04:55.066909              345.68      486.0     True  \n",
       "10  2019-12-01T20:48:10.921857              209.05    34672.0    False  \n",
       "11  2019-12-01T20:44:48.109011              443.90   757451.0    False  \n",
       "12  2019-12-01T20:42:48.072667              498.32   152156.0    False  \n",
       "13  2019-12-01T20:36:55.091278               32.86      486.0     True  \n",
       "14  2019-12-01T20:29:10.619095              471.66   727482.0    False  \n",
       "15  2019-12-01T20:28:58.300822               31.94   639245.0    False  \n",
       "16  2019-12-01T20:18:33.089817              539.91   737369.0    False  \n",
       "17  2019-12-01T20:07:06.538570              243.18   305194.0    False  \n",
       "18  2019-12-01T19:56:26.207496              396.84        NaN    False  \n",
       "19  2019-12-01T19:56:11.691107              527.13   674576.0    False  "
      ]
     },
     "execution_count": 7,
     "metadata": {},
     "output_type": "execute_result"
    }
   ],
   "source": [
    "data_copy.head(20)"
   ]
  },
  {
   "cell_type": "code",
   "execution_count": null,
   "id": "07ffb31b-4f69-460d-8924-462c5de75b99",
   "metadata": {},
   "outputs": [],
   "source": []
  },
  {
   "cell_type": "markdown",
   "id": "16c71916-4ea7-41d8-a7d1-f2b7ab8fb56d",
   "metadata": {},
   "source": [
    "### Ocorrencia de Chargebacks"
   ]
  },
  {
   "cell_type": "code",
   "execution_count": 8,
   "id": "05e4c706-efaf-48ac-b646-7b7ee4741a3e",
   "metadata": {},
   "outputs": [],
   "source": [
    "# Contar a ocorrência de True e False\n",
    "count_true_false = data_copy['has_cbk'].value_counts()"
   ]
  },
  {
   "cell_type": "code",
   "execution_count": 9,
   "id": "a1b7ea14-b1ed-43fe-8cdb-83639016417a",
   "metadata": {},
   "outputs": [
    {
     "data": {
      "text/plain": [
       "has_cbk\n",
       "False    2808\n",
       "True      391\n",
       "Name: count, dtype: int64"
      ]
     },
     "execution_count": 9,
     "metadata": {},
     "output_type": "execute_result"
    }
   ],
   "source": [
    "count_true_false"
   ]
  },
  {
   "cell_type": "code",
   "execution_count": 10,
   "id": "e1765146-7c4c-4d39-a78b-5bd758911f37",
   "metadata": {},
   "outputs": [
    {
     "data": {
      "image/png": "[encoded data removed]",
      "text/plain": [
       "<Figure size 800x500 with 1 Axes>"
      ]
     },
     "metadata": {},
     "output_type": "display_data"
    }
   ],
   "source": [
    "# Criar gráfico de barras\n",
    "plt.figure(figsize=(8, 5))\n",
    "count_true_false.plot(kind='bar', color=['blue', 'orange'])\n",
    "plt.title('Contagem de Chargebacks')\n",
    "plt.xlabel('Chargeback')\n",
    "plt.ylabel('Contagem')\n",
    "plt.xticks(rotation=0)  # Rotaciona os rótulos do eixo x para ficarem na horizontal\n",
    "plt.grid(axis='y')  # Adiciona grid nas linhas do eixo y\n",
    "plt.show()"
   ]
  },
  {
   "cell_type": "code",
   "execution_count": null,
   "id": "c5ece0c8-7e32-46d4-9e03-89e5d0b674f4",
   "metadata": {},
   "outputs": [],
   "source": []
  },
  {
   "cell_type": "markdown",
   "id": "23146df8-7a3a-4553-a0d1-6fe249467194",
   "metadata": {},
   "source": [
    "### Descrição Estatítica das Transições Monetárias"
   ]
  },
  {
   "cell_type": "code",
   "execution_count": 11,
   "id": "5b93b08d-b20c-4222-82fd-53fcb3afdcb9",
   "metadata": {},
   "outputs": [
    {
     "data": {
      "text/plain": [
       "count    3199.000000\n",
       "mean      767.812904\n",
       "std       889.095904\n",
       "min         1.220000\n",
       "25%       205.235000\n",
       "50%       415.940000\n",
       "75%       981.680000\n",
       "max      4097.210000\n",
       "Name: transaction_amount, dtype: float64"
      ]
     },
     "execution_count": 11,
     "metadata": {},
     "output_type": "execute_result"
    }
   ],
   "source": [
    "data_copy['transaction_amount'].describe()"
   ]
  },
  {
   "cell_type": "code",
   "execution_count": 12,
   "id": "187d9fed-7dfa-4bb2-914b-023223123dca",
   "metadata": {},
   "outputs": [
    {
     "data": {
      "image/png": "[encoded data removed]",
      "text/plain": [
       "<Figure size 800x500 with 1 Axes>"
      ]
     },
     "metadata": {},
     "output_type": "display_data"
    }
   ],
   "source": [
    "# Criar o box-plot para 'transaction_amount'\n",
    "plt.figure(figsize=(8, 5))\n",
    "plt.boxplot(data_copy['transaction_amount'], patch_artist=True, boxprops=dict(facecolor='lightblue'))\n",
    "plt.title('Box-Plot Transaction')\n",
    "plt.ylabel('Valor da Transação')\n",
    "plt.grid(axis='y')  # Adiciona grid nas linhas do eixo y\n",
    "plt.show()"
   ]
  },
  {
   "cell_type": "code",
   "execution_count": null,
   "id": "0d61d602-6496-457b-89bb-bae27aab1ad4",
   "metadata": {},
   "outputs": [],
   "source": []
  },
  {
   "cell_type": "code",
   "execution_count": 13,
   "id": "3d84dcc8-e6fd-473f-a72c-1c76135fa32c",
   "metadata": {},
   "outputs": [
    {
     "name": "stdout",
     "output_type": "stream",
     "text": [
      "                    Null Count  Empty Count\n",
      "transaction_id               0            0\n",
      "merchant_id                  0            0\n",
      "user_id                      0            0\n",
      "card_number                  0            0\n",
      "transaction_date             0            0\n",
      "transaction_amount           0            0\n",
      "device_id                  830            0\n",
      "has_cbk                      0            0\n"
     ]
    }
   ],
   "source": [
    "# Contar valores nulos e vazios\n",
    "def count_nulls_and_empty(dataframe):\n",
    "    null_counts = dataframe.isnull().sum()  # Contar nulos\n",
    "    empty_counts = (dataframe == '').sum()   # Contar strings vazias\n",
    "    \n",
    "    # Criar um DataFrame com os resultados\n",
    "    summary = pd.DataFrame({\n",
    "        'Null Count': null_counts,\n",
    "        'Empty Count': empty_counts\n",
    "    })\n",
    "    \n",
    "    return summary\n",
    "\n",
    "# Chamar a função e exibir o resultado\n",
    "result = count_nulls_and_empty(data_copy)\n",
    "\n",
    "print(result)"
   ]
  },
  {
   "cell_type": "code",
   "execution_count": null,
   "id": "7195265a-12b4-4bac-8670-4ec3ec93b07a",
   "metadata": {},
   "outputs": [],
   "source": []
  },
  {
   "cell_type": "markdown",
   "id": "ce5dea89-8981-4680-a435-9bc711e60952",
   "metadata": {},
   "source": [
    "# Antifraud Requirements"
   ]
  },
  {
   "cell_type": "code",
   "execution_count": null,
   "id": "308d9851-fe0a-4210-ad66-86d9a7791bc4",
   "metadata": {},
   "outputs": [],
   "source": []
  },
  {
   "cell_type": "markdown",
   "id": "84ae447c-c8cf-45c7-afea-c618f9bed9e5",
   "metadata": {},
   "source": [
    "### Requirement I: Reject transaction if user is trying too many transactions in a row"
   ]
  },
  {
   "cell_type": "code",
   "execution_count": 14,
   "id": "9c08288a-b596-48d0-8f38-25d181acec5e",
   "metadata": {},
   "outputs": [],
   "source": [
    "data_copy_filter = data_copy[data_copy['user_id'] == 81152]"
   ]
  },
  {
   "cell_type": "code",
   "execution_count": 15,
   "id": "8f25ac51-d98e-471e-83f9-1654ed52bb31",
   "metadata": {},
   "outputs": [],
   "source": [
    "data_copy_filter_copy = data_copy_filter.copy()"
   ]
  },
  {
   "cell_type": "code",
   "execution_count": 16,
   "id": "00dba5ae-0b21-4b0d-9d1f-5f789b16cdd7",
   "metadata": {},
   "outputs": [
    {
     "data": {
      "text/html": [
       "<div>\n",
       "<style scoped>\n",
       "    .dataframe tbody tr th:only-of-type {\n",
       "        vertical-align: middle;\n",
       "    }\n",
       "\n",
       "    .dataframe tbody tr th {\n",
       "        vertical-align: top;\n",
       "    }\n",
       "\n",
       "    .dataframe thead th {\n",
       "        text-align: right;\n",
       "    }\n",
       "</style>\n",
       "<table border=\"1\" class=\"dataframe\">\n",
       "  <thead>\n",
       "    <tr style=\"text-align: right;\">\n",
       "      <th></th>\n",
       "      <th>transaction_id</th>\n",
       "      <th>merchant_id</th>\n",
       "      <th>user_id</th>\n",
       "      <th>card_number</th>\n",
       "      <th>transaction_date</th>\n",
       "      <th>transaction_amount</th>\n",
       "      <th>device_id</th>\n",
       "      <th>has_cbk</th>\n",
       "    </tr>\n",
       "  </thead>\n",
       "  <tbody>\n",
       "    <tr>\n",
       "      <th>7</th>\n",
       "      <td>21320405</td>\n",
       "      <td>56107</td>\n",
       "      <td>81152</td>\n",
       "      <td>650516******9201</td>\n",
       "      <td>2019-12-01T21:24:05.608374</td>\n",
       "      <td>188.68</td>\n",
       "      <td>486.0</td>\n",
       "      <td>True</td>\n",
       "    </tr>\n",
       "    <tr>\n",
       "      <th>8</th>\n",
       "      <td>21320406</td>\n",
       "      <td>56107</td>\n",
       "      <td>81152</td>\n",
       "      <td>650516******9201</td>\n",
       "      <td>2019-12-01T21:13:21.529999</td>\n",
       "      <td>352.77</td>\n",
       "      <td>486.0</td>\n",
       "      <td>True</td>\n",
       "    </tr>\n",
       "    <tr>\n",
       "      <th>9</th>\n",
       "      <td>21320407</td>\n",
       "      <td>56107</td>\n",
       "      <td>81152</td>\n",
       "      <td>650516******9201</td>\n",
       "      <td>2019-12-01T21:04:55.066909</td>\n",
       "      <td>345.68</td>\n",
       "      <td>486.0</td>\n",
       "      <td>True</td>\n",
       "    </tr>\n",
       "    <tr>\n",
       "      <th>13</th>\n",
       "      <td>21320411</td>\n",
       "      <td>56107</td>\n",
       "      <td>81152</td>\n",
       "      <td>650516******7004</td>\n",
       "      <td>2019-12-01T20:36:55.091278</td>\n",
       "      <td>32.86</td>\n",
       "      <td>486.0</td>\n",
       "      <td>True</td>\n",
       "    </tr>\n",
       "  </tbody>\n",
       "</table>\n",
       "</div>"
      ],
      "text/plain": [
       "    transaction_id  merchant_id  user_id       card_number  \\\n",
       "7         21320405        56107    81152  650516******9201   \n",
       "8         21320406        56107    81152  650516******9201   \n",
       "9         21320407        56107    81152  650516******9201   \n",
       "13        21320411        56107    81152  650516******7004   \n",
       "\n",
       "              transaction_date  transaction_amount  device_id  has_cbk  \n",
       "7   2019-12-01T21:24:05.608374              188.68      486.0     True  \n",
       "8   2019-12-01T21:13:21.529999              352.77      486.0     True  \n",
       "9   2019-12-01T21:04:55.066909              345.68      486.0     True  \n",
       "13  2019-12-01T20:36:55.091278               32.86      486.0     True  "
      ]
     },
     "execution_count": 16,
     "metadata": {},
     "output_type": "execute_result"
    }
   ],
   "source": [
    "data_copy_filter_copy"
   ]
  },
  {
   "cell_type": "code",
   "execution_count": 17,
   "id": "686b9805-3e65-4290-a816-24569559dc6e",
   "metadata": {},
   "outputs": [],
   "source": [
    "# Converter a coluna de data para datetime\n",
    "data_copy_filter_copy['transaction_date'] = pd.to_datetime(data_copy_filter_copy['transaction_date'])"
   ]
  },
  {
   "cell_type": "code",
   "execution_count": 18,
   "id": "ac6911f0-b1db-4683-a713-255a869eec65",
   "metadata": {},
   "outputs": [],
   "source": [
    "data_copy_filter_copy.sort_values(by='transaction_date', inplace=True)"
   ]
  },
  {
   "cell_type": "code",
   "execution_count": 19,
   "id": "b2961318-e4af-4c43-b2f8-7fe91783ed83",
   "metadata": {},
   "outputs": [
    {
     "data": {
      "text/html": [
       "<div>\n",
       "<style scoped>\n",
       "    .dataframe tbody tr th:only-of-type {\n",
       "        vertical-align: middle;\n",
       "    }\n",
       "\n",
       "    .dataframe tbody tr th {\n",
       "        vertical-align: top;\n",
       "    }\n",
       "\n",
       "    .dataframe thead th {\n",
       "        text-align: right;\n",
       "    }\n",
       "</style>\n",
       "<table border=\"1\" class=\"dataframe\">\n",
       "  <thead>\n",
       "    <tr style=\"text-align: right;\">\n",
       "      <th></th>\n",
       "      <th>transaction_id</th>\n",
       "      <th>merchant_id</th>\n",
       "      <th>user_id</th>\n",
       "      <th>card_number</th>\n",
       "      <th>transaction_date</th>\n",
       "      <th>transaction_amount</th>\n",
       "      <th>device_id</th>\n",
       "      <th>has_cbk</th>\n",
       "    </tr>\n",
       "  </thead>\n",
       "  <tbody>\n",
       "    <tr>\n",
       "      <th>13</th>\n",
       "      <td>21320411</td>\n",
       "      <td>56107</td>\n",
       "      <td>81152</td>\n",
       "      <td>650516******7004</td>\n",
       "      <td>2019-12-01 20:36:55.091278</td>\n",
       "      <td>32.86</td>\n",
       "      <td>486.0</td>\n",
       "      <td>True</td>\n",
       "    </tr>\n",
       "    <tr>\n",
       "      <th>9</th>\n",
       "      <td>21320407</td>\n",
       "      <td>56107</td>\n",
       "      <td>81152</td>\n",
       "      <td>650516******9201</td>\n",
       "      <td>2019-12-01 21:04:55.066909</td>\n",
       "      <td>345.68</td>\n",
       "      <td>486.0</td>\n",
       "      <td>True</td>\n",
       "    </tr>\n",
       "    <tr>\n",
       "      <th>8</th>\n",
       "      <td>21320406</td>\n",
       "      <td>56107</td>\n",
       "      <td>81152</td>\n",
       "      <td>650516******9201</td>\n",
       "      <td>2019-12-01 21:13:21.529999</td>\n",
       "      <td>352.77</td>\n",
       "      <td>486.0</td>\n",
       "      <td>True</td>\n",
       "    </tr>\n",
       "    <tr>\n",
       "      <th>7</th>\n",
       "      <td>21320405</td>\n",
       "      <td>56107</td>\n",
       "      <td>81152</td>\n",
       "      <td>650516******9201</td>\n",
       "      <td>2019-12-01 21:24:05.608374</td>\n",
       "      <td>188.68</td>\n",
       "      <td>486.0</td>\n",
       "      <td>True</td>\n",
       "    </tr>\n",
       "  </tbody>\n",
       "</table>\n",
       "</div>"
      ],
      "text/plain": [
       "    transaction_id  merchant_id  user_id       card_number  \\\n",
       "13        21320411        56107    81152  650516******7004   \n",
       "9         21320407        56107    81152  650516******9201   \n",
       "8         21320406        56107    81152  650516******9201   \n",
       "7         21320405        56107    81152  650516******9201   \n",
       "\n",
       "             transaction_date  transaction_amount  device_id  has_cbk  \n",
       "13 2019-12-01 20:36:55.091278               32.86      486.0     True  \n",
       "9  2019-12-01 21:04:55.066909              345.68      486.0     True  \n",
       "8  2019-12-01 21:13:21.529999              352.77      486.0     True  \n",
       "7  2019-12-01 21:24:05.608374              188.68      486.0     True  "
      ]
     },
     "execution_count": 19,
     "metadata": {},
     "output_type": "execute_result"
    }
   ],
   "source": [
    "data_copy_filter_copy"
   ]
  },
  {
   "cell_type": "code",
   "execution_count": 20,
   "id": "33a67d78-a8f5-4f6e-a4f2-166cd7755c59",
   "metadata": {},
   "outputs": [],
   "source": [
    "data_copy_filter_copy['time_diff'] = data_copy_filter_copy.groupby('user_id')['transaction_date'].diff()"
   ]
  },
  {
   "cell_type": "code",
   "execution_count": 21,
   "id": "2cb1b3a4-2535-4e7c-a163-20f042ed9656",
   "metadata": {},
   "outputs": [
    {
     "data": {
      "text/html": [
       "<div>\n",
       "<style scoped>\n",
       "    .dataframe tbody tr th:only-of-type {\n",
       "        vertical-align: middle;\n",
       "    }\n",
       "\n",
       "    .dataframe tbody tr th {\n",
       "        vertical-align: top;\n",
       "    }\n",
       "\n",
       "    .dataframe thead th {\n",
       "        text-align: right;\n",
       "    }\n",
       "</style>\n",
       "<table border=\"1\" class=\"dataframe\">\n",
       "  <thead>\n",
       "    <tr style=\"text-align: right;\">\n",
       "      <th></th>\n",
       "      <th>transaction_id</th>\n",
       "      <th>merchant_id</th>\n",
       "      <th>user_id</th>\n",
       "      <th>card_number</th>\n",
       "      <th>transaction_date</th>\n",
       "      <th>transaction_amount</th>\n",
       "      <th>device_id</th>\n",
       "      <th>has_cbk</th>\n",
       "      <th>time_diff</th>\n",
       "    </tr>\n",
       "  </thead>\n",
       "  <tbody>\n",
       "    <tr>\n",
       "      <th>13</th>\n",
       "      <td>21320411</td>\n",
       "      <td>56107</td>\n",
       "      <td>81152</td>\n",
       "      <td>650516******7004</td>\n",
       "      <td>2019-12-01 20:36:55.091278</td>\n",
       "      <td>32.86</td>\n",
       "      <td>486.0</td>\n",
       "      <td>True</td>\n",
       "      <td>NaT</td>\n",
       "    </tr>\n",
       "    <tr>\n",
       "      <th>9</th>\n",
       "      <td>21320407</td>\n",
       "      <td>56107</td>\n",
       "      <td>81152</td>\n",
       "      <td>650516******9201</td>\n",
       "      <td>2019-12-01 21:04:55.066909</td>\n",
       "      <td>345.68</td>\n",
       "      <td>486.0</td>\n",
       "      <td>True</td>\n",
       "      <td>0 days 00:27:59.975631</td>\n",
       "    </tr>\n",
       "    <tr>\n",
       "      <th>8</th>\n",
       "      <td>21320406</td>\n",
       "      <td>56107</td>\n",
       "      <td>81152</td>\n",
       "      <td>650516******9201</td>\n",
       "      <td>2019-12-01 21:13:21.529999</td>\n",
       "      <td>352.77</td>\n",
       "      <td>486.0</td>\n",
       "      <td>True</td>\n",
       "      <td>0 days 00:08:26.463090</td>\n",
       "    </tr>\n",
       "    <tr>\n",
       "      <th>7</th>\n",
       "      <td>21320405</td>\n",
       "      <td>56107</td>\n",
       "      <td>81152</td>\n",
       "      <td>650516******9201</td>\n",
       "      <td>2019-12-01 21:24:05.608374</td>\n",
       "      <td>188.68</td>\n",
       "      <td>486.0</td>\n",
       "      <td>True</td>\n",
       "      <td>0 days 00:10:44.078375</td>\n",
       "    </tr>\n",
       "  </tbody>\n",
       "</table>\n",
       "</div>"
      ],
      "text/plain": [
       "    transaction_id  merchant_id  user_id       card_number  \\\n",
       "13        21320411        56107    81152  650516******7004   \n",
       "9         21320407        56107    81152  650516******9201   \n",
       "8         21320406        56107    81152  650516******9201   \n",
       "7         21320405        56107    81152  650516******9201   \n",
       "\n",
       "             transaction_date  transaction_amount  device_id  has_cbk  \\\n",
       "13 2019-12-01 20:36:55.091278               32.86      486.0     True   \n",
       "9  2019-12-01 21:04:55.066909              345.68      486.0     True   \n",
       "8  2019-12-01 21:13:21.529999              352.77      486.0     True   \n",
       "7  2019-12-01 21:24:05.608374              188.68      486.0     True   \n",
       "\n",
       "                time_diff  \n",
       "13                    NaT  \n",
       "9  0 days 00:27:59.975631  \n",
       "8  0 days 00:08:26.463090  \n",
       "7  0 days 00:10:44.078375  "
      ]
     },
     "execution_count": 21,
     "metadata": {},
     "output_type": "execute_result"
    }
   ],
   "source": [
    "data_copy_filter_copy"
   ]
  },
  {
   "cell_type": "code",
   "execution_count": 22,
   "id": "ee10bebb-1ca5-4198-89f3-4803bba9c3bf",
   "metadata": {},
   "outputs": [],
   "source": [
    "tempo=timedelta(minutes=30)\n",
    "frequencia = data_copy_filter_copy[data_copy_filter_copy['time_diff'] <= tempo].groupby('user_id').size()"
   ]
  },
  {
   "cell_type": "code",
   "execution_count": 23,
   "id": "712384ce-776f-4964-a8ae-c387ce51f3c7",
   "metadata": {},
   "outputs": [
    {
     "data": {
      "text/plain": [
       "user_id\n",
       "81152    3\n",
       "dtype: int64"
      ]
     },
     "execution_count": 23,
     "metadata": {},
     "output_type": "execute_result"
    }
   ],
   "source": [
    "frequencia"
   ]
  },
  {
   "cell_type": "code",
   "execution_count": 24,
   "id": "53cdc16c-386b-46cc-9976-6fa7248daf10",
   "metadata": {},
   "outputs": [],
   "source": [
    "def volume_pedidos_curto_intervalo(data, tempo=timedelta(minutes=20)):\n",
    "\n",
    "    # Converter a coluna de data para datetime\n",
    "    data['transaction_date'] = pd.to_datetime(data['transaction_date'])\n",
    "\n",
    "    data.sort_values(by='transaction_date', inplace=True)\n",
    "    data['time_diff'] = data.groupby('user_id')['transaction_date'].diff()\n",
    "    frequencia = data[data['time_diff'] <= tempo].groupby('user_id').size()\n",
    "    \n",
    "    return frequencia[frequencia > 1]"
   ]
  },
  {
   "cell_type": "code",
   "execution_count": 25,
   "id": "cae7d6fc-e9e6-462f-b4ac-a768ed9e2b3a",
   "metadata": {},
   "outputs": [],
   "source": [
    "# Executar as funções de análise\n",
    "volume_pedidos = volume_pedidos_curto_intervalo(data)"
   ]
  },
  {
   "cell_type": "code",
   "execution_count": 26,
   "id": "d9a913ce-5b8d-48b4-a94f-b6e761249ed0",
   "metadata": {},
   "outputs": [
    {
     "name": "stdout",
     "output_type": "stream",
     "text": [
      "Volume de pedidos em curto intervalo de tempo:\n",
      " user_id\n",
      "5541     2\n",
      "9669     2\n",
      "9853     3\n",
      "11750    3\n",
      "17807    2\n",
      "21768    3\n",
      "31819    2\n",
      "40779    3\n",
      "42677    2\n",
      "49106    2\n",
      "53850    2\n",
      "55630    2\n",
      "56877    3\n",
      "67519    2\n",
      "69588    3\n",
      "75710    6\n",
      "76819    3\n",
      "77959    3\n",
      "79054    6\n",
      "81152    2\n",
      "88553    2\n",
      "91637    4\n",
      "92259    2\n",
      "96025    5\n",
      "dtype: int64\n"
     ]
    }
   ],
   "source": [
    "print(\"Volume de pedidos em curto intervalo de tempo:\\n\", volume_pedidos)"
   ]
  },
  {
   "cell_type": "code",
   "execution_count": null,
   "id": "ca169078-85a0-42c8-b905-6a180fecbecf",
   "metadata": {},
   "outputs": [],
   "source": []
  },
  {
   "cell_type": "markdown",
   "id": "3e48b7c5-e010-4c63-a32e-36c53e035c5a",
   "metadata": {},
   "source": [
    "### Requirement II: Reject transaction if a user had a chargeback before"
   ]
  },
  {
   "cell_type": "code",
   "execution_count": 27,
   "id": "2942b9cc-942f-4b5c-813e-27c58b99f42a",
   "metadata": {},
   "outputs": [],
   "source": [
    "# Contas com muitos chargebacks\n",
    "def contas_com_chargebacks(data):\n",
    "    \n",
    "    chargebacks = data[data['has_cbk'] == True]\n",
    "    contagem_chargebacks = chargebacks['user_id'].value_counts()\n",
    "    \n",
    "    return contagem_chargebacks[contagem_chargebacks > 1]\n"
   ]
  },
  {
   "cell_type": "code",
   "execution_count": 28,
   "id": "0d582be5-4606-436a-81dc-a9ae7ba7aa1a",
   "metadata": {},
   "outputs": [],
   "source": [
    "contas_chargebacks = contas_com_chargebacks(data)"
   ]
  },
  {
   "cell_type": "code",
   "execution_count": 29,
   "id": "e1bae7f3-24a7-4c76-8cda-fc990c8b3490",
   "metadata": {},
   "outputs": [
    {
     "name": "stdout",
     "output_type": "stream",
     "text": [
      "\n",
      "Contas com muitos chargebacks:\n",
      " user_id\n",
      "11750    25\n",
      "91637    19\n",
      "79054    15\n",
      "96025    13\n",
      "78262    12\n",
      "         ..\n",
      "35138     2\n",
      "21233     2\n",
      "24543     2\n",
      "52129     2\n",
      "12678     2\n",
      "Name: count, Length: 78, dtype: int64\n"
     ]
    }
   ],
   "source": [
    "print(\"\\nContas com muitos chargebacks:\\n\", contas_chargebacks)"
   ]
  },
  {
   "cell_type": "code",
   "execution_count": null,
   "id": "2efad163-5937-4cd9-a7bc-3248eadfa6cd",
   "metadata": {},
   "outputs": [],
   "source": []
  },
  {
   "cell_type": "markdown",
   "id": "ac5cb362-ad61-494a-8d00-abe1907eaaba",
   "metadata": {},
   "source": [
    "### Requirement III: Reject transactions above a certain amount in a given period"
   ]
  },
  {
   "cell_type": "code",
   "execution_count": 30,
   "id": "297ed30f-aa74-438b-b03d-e775f7e71a6b",
   "metadata": {},
   "outputs": [],
   "source": [
    "def should_deny_transaction(transaction_amount, transaction_date, max_amount, start_time, end_time):\n",
    "\n",
    "    # Obtém a hora da transação\n",
    "    transaction_hour = transaction_date.hour\n",
    "    \n",
    "    return transaction_amount > max_amount and (transaction_hour >= start_time or transaction_hour < end_time)\n"
   ]
  },
  {
   "cell_type": "code",
   "execution_count": 31,
   "id": "2a46a500-2821-44ee-9269-bf2afa692355",
   "metadata": {},
   "outputs": [],
   "source": [
    "def check_transaction(data):\n",
    "    MAX_AMOUNT = 1000  # Exemplo de valor máximo permitido\n",
    "    START_TIME = 18    # 18:00\n",
    "    END_TIME = 6       # 06:00\n",
    "\n",
    "    # Converter a coluna de data para datetime\n",
    "    data['transaction_date'] = pd.to_datetime(data['transaction_date'])\n",
    "    \n",
    "    # Converte a string de data e hora para um objeto datetime\n",
    "    transaction_hour = data['transaction_date'].dt.hour\n",
    "\n",
    "    # Obtém a hora da transação\n",
    "    #transaction_hour = transaction_time.hour\n",
    "\n",
    "    # Verificar se a transação viola os critérios\n",
    "    flag = (data['transaction_amount'] > MAX_AMOUNT) & ((transaction_hour >= START_TIME) | (transaction_hour < END_TIME))\n",
    "\n",
    "    result = data[['transaction_id']].copy()\n",
    "    result['viola_criterio'] = flag\n",
    "\n",
    "    return result\n"
   ]
  },
  {
   "cell_type": "code",
   "execution_count": 32,
   "id": "fd74fa76-7ae5-4e2e-a88b-d4b71f12d00a",
   "metadata": {},
   "outputs": [],
   "source": [
    "transaction_check = check_transaction(data=data_copy)"
   ]
  },
  {
   "cell_type": "code",
   "execution_count": 33,
   "id": "43f3f838-44ea-4544-bbf5-3eaaf46c741b",
   "metadata": {},
   "outputs": [
    {
     "data": {
      "text/html": [
       "<div>\n",
       "<style scoped>\n",
       "    .dataframe tbody tr th:only-of-type {\n",
       "        vertical-align: middle;\n",
       "    }\n",
       "\n",
       "    .dataframe tbody tr th {\n",
       "        vertical-align: top;\n",
       "    }\n",
       "\n",
       "    .dataframe thead th {\n",
       "        text-align: right;\n",
       "    }\n",
       "</style>\n",
       "<table border=\"1\" class=\"dataframe\">\n",
       "  <thead>\n",
       "    <tr style=\"text-align: right;\">\n",
       "      <th></th>\n",
       "      <th>transaction_id</th>\n",
       "      <th>viola_criterio</th>\n",
       "    </tr>\n",
       "  </thead>\n",
       "  <tbody>\n",
       "    <tr>\n",
       "      <th>0</th>\n",
       "      <td>21320398</td>\n",
       "      <td>False</td>\n",
       "    </tr>\n",
       "    <tr>\n",
       "      <th>1</th>\n",
       "      <td>21320399</td>\n",
       "      <td>False</td>\n",
       "    </tr>\n",
       "    <tr>\n",
       "      <th>2</th>\n",
       "      <td>21320400</td>\n",
       "      <td>False</td>\n",
       "    </tr>\n",
       "    <tr>\n",
       "      <th>3</th>\n",
       "      <td>21320401</td>\n",
       "      <td>True</td>\n",
       "    </tr>\n",
       "    <tr>\n",
       "      <th>4</th>\n",
       "      <td>21320402</td>\n",
       "      <td>False</td>\n",
       "    </tr>\n",
       "    <tr>\n",
       "      <th>...</th>\n",
       "      <td>...</td>\n",
       "      <td>...</td>\n",
       "    </tr>\n",
       "    <tr>\n",
       "      <th>3194</th>\n",
       "      <td>21323592</td>\n",
       "      <td>False</td>\n",
       "    </tr>\n",
       "    <tr>\n",
       "      <th>3195</th>\n",
       "      <td>21323593</td>\n",
       "      <td>False</td>\n",
       "    </tr>\n",
       "    <tr>\n",
       "      <th>3196</th>\n",
       "      <td>21323594</td>\n",
       "      <td>False</td>\n",
       "    </tr>\n",
       "    <tr>\n",
       "      <th>3197</th>\n",
       "      <td>21323595</td>\n",
       "      <td>False</td>\n",
       "    </tr>\n",
       "    <tr>\n",
       "      <th>3198</th>\n",
       "      <td>21323596</td>\n",
       "      <td>True</td>\n",
       "    </tr>\n",
       "  </tbody>\n",
       "</table>\n",
       "<p>3199 rows × 2 columns</p>\n",
       "</div>"
      ],
      "text/plain": [
       "      transaction_id  viola_criterio\n",
       "0           21320398           False\n",
       "1           21320399           False\n",
       "2           21320400           False\n",
       "3           21320401            True\n",
       "4           21320402           False\n",
       "...              ...             ...\n",
       "3194        21323592           False\n",
       "3195        21323593           False\n",
       "3196        21323594           False\n",
       "3197        21323595           False\n",
       "3198        21323596            True\n",
       "\n",
       "[3199 rows x 2 columns]"
      ]
     },
     "execution_count": 33,
     "metadata": {},
     "output_type": "execute_result"
    }
   ],
   "source": [
    "transaction_check"
   ]
  },
  {
   "cell_type": "code",
   "execution_count": 34,
   "id": "b0301bc8-800b-4b85-984b-65d3e1855a20",
   "metadata": {},
   "outputs": [],
   "source": [
    "# Contar a ocorrência de True e False\n",
    "count_true_false = transaction_check['viola_criterio'].value_counts()"
   ]
  },
  {
   "cell_type": "code",
   "execution_count": 35,
   "id": "85dbbfe6-17c1-4b36-836f-9603573690d9",
   "metadata": {},
   "outputs": [
    {
     "data": {
      "text/plain": [
       "viola_criterio\n",
       "False    2775\n",
       "True      424\n",
       "Name: count, dtype: int64"
      ]
     },
     "execution_count": 35,
     "metadata": {},
     "output_type": "execute_result"
    }
   ],
   "source": [
    "count_true_false"
   ]
  },
  {
   "cell_type": "code",
   "execution_count": null,
   "id": "c6644fb1-0b89-497a-873e-ffd93ee7da36",
   "metadata": {},
   "outputs": [],
   "source": []
  },
  {
   "cell_type": "code",
   "execution_count": null,
   "id": "eaf46cfb-01a8-4b0b-b407-7d88b3a793eb",
   "metadata": {},
   "outputs": [],
   "source": []
  },
  {
   "cell_type": "markdown",
   "id": "82bebf60-e519-47ce-8b1e-0332fc7db69b",
   "metadata": {},
   "source": [
    "# What other data would you look at to try to find patterns of possible frauds?"
   ]
  },
  {
   "cell_type": "markdown",
   "id": "3c9a0f90-2f5a-4e28-97fc-7384074e0a95",
   "metadata": {},
   "source": [
    "- #### Dados externos: Nutrir com informações de Dispositivo. Empresas como a Incognia, por exemplo, pode nos fornecer informações para ter numero de reinstalações e melhor tracking do dispositivo.\n",
    "\n",
    "- #### Geolocalização, volume de endereços cadastrados.\n",
    "\n",
    "- #### Recência e Frequência de criações de conta.\n",
    "\n",
    "- #### Nome do cardholder -> Ideal que coincida com o dono da conta."
   ]
  },
  {
   "cell_type": "code",
   "execution_count": null,
   "id": "9200d1a8-d6d6-4e2d-92d4-df728e851bd3",
   "metadata": {},
   "outputs": [],
   "source": []
  },
  {
   "cell_type": "markdown",
   "id": "15142bfc-bb49-4000-9a1d-b75fdbf5394b",
   "metadata": {},
   "source": [
    "# What other behaviors would we look at to try to find patterns of possible frauds?"
   ]
  },
  {
   "cell_type": "markdown",
   "id": "9e99a6f1-3d15-43fe-8a73-a93b40cde425",
   "metadata": {},
   "source": [
    "### I. Um mesmo cartão em contas diferentes"
   ]
  },
  {
   "cell_type": "code",
   "execution_count": 36,
   "id": "46daf05e-2f5d-41af-ab60-9dae63839638",
   "metadata": {},
   "outputs": [],
   "source": [
    "def cartao_em_contas_diferentes(data):\n",
    "    \n",
    "    contagem_cartoes = data.groupby('card_number')['user_id'].nunique()\n",
    "    \n",
    "    return contagem_cartoes[contagem_cartoes > 1]\n"
   ]
  },
  {
   "cell_type": "code",
   "execution_count": 37,
   "id": "1539cefd-5b0a-4137-96e8-f84c21e31c86",
   "metadata": {},
   "outputs": [],
   "source": [
    "cartoes_diferentes = cartao_em_contas_diferentes(data)"
   ]
  },
  {
   "cell_type": "code",
   "execution_count": 38,
   "id": "2dd9b8ca-f636-433c-9fc7-334389b1c49e",
   "metadata": {},
   "outputs": [
    {
     "name": "stdout",
     "output_type": "stream",
     "text": [
      "\n",
      "Um mesmo cartão em contas diferentes:\n",
      " card_number\n",
      "230650******7507    2\n",
      "406655******4572    2\n",
      "406655******5763    2\n",
      "406655******7343    2\n",
      "412177******1138    2\n",
      "427167******7032    2\n",
      "459313******1805    2\n",
      "459383******1178    2\n",
      "464296******3991    2\n",
      "476333******3122    2\n",
      "482425******7128    2\n",
      "490172******3386    2\n",
      "496045******1160    4\n",
      "498408******4290    2\n",
      "516292******1671    2\n",
      "516292******1745    2\n",
      "516292******2831    2\n",
      "518454******7187    2\n",
      "523421******9631    2\n",
      "527468******3267    2\n",
      "536380******6214    2\n",
      "544731******3506    2\n",
      "544731******3609    2\n",
      "544731******8590    2\n",
      "550209******1795    2\n",
      "550209******6408    2\n",
      "550209******6420    3\n",
      "606282******1376    2\n",
      "606282******4880    2\n",
      "650516******3633    2\n",
      "651668******2020    2\n",
      "Name: user_id, dtype: int64\n"
     ]
    }
   ],
   "source": [
    "print(\"\\nUm mesmo cartão em contas diferentes:\\n\", cartoes_diferentes)"
   ]
  },
  {
   "cell_type": "code",
   "execution_count": null,
   "id": "d62750da-e627-4249-97df-788d9c6ce497",
   "metadata": {},
   "outputs": [],
   "source": []
  },
  {
   "cell_type": "markdown",
   "id": "1f0f11b3-dcb5-40b7-a082-9bf01d8c0810",
   "metadata": {},
   "source": [
    "### II. Um cartão em contas diferentes com chargeback em todas"
   ]
  },
  {
   "cell_type": "code",
   "execution_count": 39,
   "id": "d1175c26-9922-42e7-b283-5a45756364d7",
   "metadata": {},
   "outputs": [],
   "source": [
    "def cartao_com_chargeback_em_todas(data):\n",
    "    # Filtra apenas as transações com chargeback\n",
    "    chargebacks = data[data['has_cbk'] == True]\n",
    "    \n",
    "    # Conta quantos usuários distintos estão associados a cada cartão\n",
    "    contagem_chargebacks = chargebacks.groupby('card_number')['user_id'].nunique()\n",
    "    \n",
    "    # Conta o número total de usuários para cada cartão\n",
    "    total_usuarios = chargebacks.groupby('card_number')['user_id'].count()\n",
    "    \n",
    "    # Compara se o número de usuários com chargebacks é igual ao total de usuários\n",
    "    cartoes_chargeback_todos = contagem_chargebacks[contagem_chargebacks == total_usuarios]\n",
    "    \n",
    "    return cartoes_chargeback_todos\n"
   ]
  },
  {
   "cell_type": "code",
   "execution_count": 40,
   "id": "b0fef1cd-52f4-49de-9a76-500f751d7c0c",
   "metadata": {},
   "outputs": [],
   "source": [
    "cartoes_chargeback = cartao_com_chargeback_em_todas(data)"
   ]
  },
  {
   "cell_type": "code",
   "execution_count": 41,
   "id": "07740626-eea0-4af8-ac3b-3e00fb34cd0e",
   "metadata": {},
   "outputs": [
    {
     "name": "stdout",
     "output_type": "stream",
     "text": [
      "\n",
      "Um cartão em contas diferentes com chargeback em todas:\n",
      " card_number\n",
      "230650******5729    1\n",
      "230744******950     1\n",
      "403002******5770    1\n",
      "406168******2582    1\n",
      "406168******6228    1\n",
      "                   ..\n",
      "606282******9701    1\n",
      "606282******9980    1\n",
      "650486******2500    1\n",
      "650486******4290    1\n",
      "650516******7004    1\n",
      "Name: user_id, Length: 208, dtype: int64\n"
     ]
    }
   ],
   "source": [
    "print(\"\\nUm cartão em contas diferentes com chargeback em todas:\\n\", cartoes_chargeback)"
   ]
  },
  {
   "cell_type": "code",
   "execution_count": null,
   "id": "8b66e7d9-e643-47f5-bc25-abb213b94368",
   "metadata": {},
   "outputs": [],
   "source": []
  },
  {
   "cell_type": "markdown",
   "id": "323f3141-1190-4c94-8f7b-78f66ceb0956",
   "metadata": {},
   "source": [
    "### III. Muitas contas em um mesmo dispositivo"
   ]
  },
  {
   "cell_type": "code",
   "execution_count": 42,
   "id": "de86eb9f-71f2-43be-a6d8-46a0e91c55c5",
   "metadata": {},
   "outputs": [],
   "source": [
    "def muitas_contas_no_mesmo_dispositivo(data):\n",
    "    \n",
    "    contagem_dispositivos = data['device_id'].value_counts()\n",
    "    \n",
    "    return contagem_dispositivos[contagem_dispositivos > 1]"
   ]
  },
  {
   "cell_type": "code",
   "execution_count": 43,
   "id": "875f5021-a85c-4da4-a9fa-86dc7629101a",
   "metadata": {},
   "outputs": [],
   "source": [
    "contas_dispositivo = muitas_contas_no_mesmo_dispositivo(data)"
   ]
  },
  {
   "cell_type": "code",
   "execution_count": 44,
   "id": "6f5b4b47-0476-4928-bf8d-e39d73e38db9",
   "metadata": {},
   "outputs": [
    {
     "name": "stdout",
     "output_type": "stream",
     "text": [
      "\n",
      "Muitas contas em um mesmo dispositivo:\n",
      " device_id\n",
      "563499.0    22\n",
      "342890.0    19\n",
      "101848.0    17\n",
      "438940.0    14\n",
      "547440.0    13\n",
      "            ..\n",
      "743254.0     2\n",
      "701116.0     2\n",
      "974574.0     2\n",
      "856642.0     2\n",
      "463439.0     2\n",
      "Name: count, Length: 177, dtype: int64\n"
     ]
    }
   ],
   "source": [
    "print(\"\\nMuitas contas em um mesmo dispositivo:\\n\", contas_dispositivo)"
   ]
  },
  {
   "cell_type": "code",
   "execution_count": null,
   "id": "049c1054-bd67-46a6-9fc5-1f419fe2f7c0",
   "metadata": {},
   "outputs": [],
   "source": []
  },
  {
   "cell_type": "markdown",
   "id": "0c42236d-4b92-4654-bbac-eedfb6a44c75",
   "metadata": {},
   "source": [
    "###  IV. Muitas contas com cartões diferentes"
   ]
  },
  {
   "cell_type": "code",
   "execution_count": 45,
   "id": "2acb680f-9cfa-4df3-8a43-f96789049474",
   "metadata": {},
   "outputs": [],
   "source": [
    "def muitas_contas_cartoes_diferentes(data):\n",
    "    cartoes = data.groupby('user_id')['card_number'].nunique()\n",
    "    return cartoes[cartoes > 1]"
   ]
  },
  {
   "cell_type": "code",
   "execution_count": 46,
   "id": "c577bc4d-b6dc-4dc7-8e0f-a1250581b769",
   "metadata": {},
   "outputs": [],
   "source": [
    "# Executar as funções de análise\n",
    "contas_cartoes_diferentes = muitas_contas_cartoes_diferentes(data)"
   ]
  },
  {
   "cell_type": "code",
   "execution_count": 47,
   "id": "06d4a3a4-ff73-467e-ba4e-66f4d05881a8",
   "metadata": {},
   "outputs": [
    {
     "name": "stdout",
     "output_type": "stream",
     "text": [
      "\n",
      "Muitas contas com cartões diferentes:\n",
      " user_id\n",
      "1516     2\n",
      "1668     2\n",
      "1836     2\n",
      "2708     2\n",
      "2866     2\n",
      "        ..\n",
      "96495    2\n",
      "96512    2\n",
      "97611    2\n",
      "99396    5\n",
      "99850    2\n",
      "Name: card_number, Length: 114, dtype: int64\n"
     ]
    }
   ],
   "source": [
    "# Mostrar os resultados\n",
    "print(\"\\nMuitas contas com cartões diferentes:\\n\", contas_cartoes_diferentes)"
   ]
  },
  {
   "cell_type": "code",
   "execution_count": null,
   "id": "dc30ade7-01d2-46d9-92eb-c3102bee354f",
   "metadata": {},
   "outputs": [],
   "source": []
  },
  {
   "cell_type": "markdown",
   "id": "20ff3fb6-620e-4830-a66c-59e7d4167db0",
   "metadata": {},
   "source": [
    "# Implementação do Endpoint Antifraude"
   ]
  },
  {
   "cell_type": "code",
   "execution_count": null,
   "id": "2d50ad6b-71f4-429c-b833-ad2ce5fd1c54",
   "metadata": {},
   "outputs": [],
   "source": []
  },
  {
   "cell_type": "code",
   "execution_count": 48,
   "id": "9a0f1966-9f27-4d5f-9ed9-a25fb0bf8667",
   "metadata": {},
   "outputs": [],
   "source": [
    "# Parametros\n",
    "MAX_AMOUNT = 415\n",
    "START_TIME = 18\n",
    "END_TIME = 6"
   ]
  },
  {
   "cell_type": "code",
   "execution_count": 49,
   "id": "9a63f091-761c-44aa-9cd6-f2811333b7b0",
   "metadata": {},
   "outputs": [],
   "source": [
    "# Inicializando o aplicativo Flask\n",
    "app = Flask(__name__)"
   ]
  },
  {
   "cell_type": "code",
   "execution_count": 50,
   "id": "73ec7b16-241a-489f-962d-cace84d10bc8",
   "metadata": {},
   "outputs": [],
   "source": [
    "# Simulação de banco de dados de transações (dados históricos)\n",
    "data = pd.read_csv(\"transactional-sample.csv\")\n",
    "database = data.copy()"
   ]
  },
  {
   "cell_type": "code",
   "execution_count": 51,
   "id": "9ae9f536-2223-4895-8c1d-dffc68ecf897",
   "metadata": {},
   "outputs": [],
   "source": [
    "# Detecção de volume de pedidos em curto intervalo\n",
    "def short_interval_transaction_volume(data, user_id, tempo=timedelta(minutes=30)):\n",
    "    \"\"\"\n",
    "    Verifica se um usuário realizou múltiplas transações em um curto intervalo de tempo.\n",
    "\n",
    "    :param data: DataFrame contendo os dados históricos de transações.\n",
    "                 Deve conter as colunas 'user_id' (identificador do usuário) \n",
    "                 e 'transaction_date' (data e hora da transação).\n",
    "    :param user_id: Identificador único do usuário.\n",
    "    :param tempo: Intervalo de tempo para a detecção de transações em curto prazo.\n",
    "                  O valor padrão é 30 minutos.\n",
    "    :return: True se houver mais de uma transação no intervalo especificado, False caso contrário.\n",
    "    \"\"\"\n",
    "    \n",
    "    # Converter a coluna de data para datetime\n",
    "    data['transaction_date'] = pd.to_datetime(data['transaction_date'])\n",
    "\n",
    "    # Filtrar transações do usuário\n",
    "    user_transactions = data[data['user_id'] == user_id].copy()\n",
    "\n",
    "    # Ordenar por data da transação\n",
    "    user_transactions.sort_values(by='transaction_date', inplace=True)\n",
    "\n",
    "    # Calcular a diferença de tempo entre transações\n",
    "    user_transactions['time_diff'] = user_transactions.groupby('user_id')['transaction_date'].diff()\n",
    "\n",
    "    # Contar quantas transações ocorrem dentro do intervalo especificado\n",
    "    frequency = user_transactions[user_transactions['time_diff'] <= tempo].shape[0]\n",
    "\n",
    "    # Retorna True se houver mais de uma transação no intervalo\n",
    "    return (frequency > 1)\n",
    "\n",
    "# Verifica se a transação deve ser negada com base no valor e no horário\n",
    "def should_deny_transaction(transaction_amount, transaction_date, max_amount, start_time, end_time):\n",
    "    \"\"\"\n",
    "    Verifica se a transação deve ser negada com base no valor e no horário.\n",
    "\n",
    "    :param transaction_amount: Valor da transação\n",
    "    :param transaction_hour: Hora da transação (como um inteiro de 0 a 23)\n",
    "    :param max_amount: Valor máximo permitido para a transação\n",
    "    :param start_time: Hora de início do intervalo (como um inteiro de 0 a 23)\n",
    "    :param end_time: Hora de fim do intervalo (como um inteiro de 0 a 23)\n",
    "    :return: True se a transação deve ser negada, False caso contrário\n",
    "    \"\"\"\n",
    "\n",
    "    # Obtém a hora da transação\n",
    "    transaction_hour = transaction_date.hour\n",
    "    \n",
    "    return (transaction_amount > max_amount) and ((transaction_hour >= start_time) or (transaction_hour < end_time))\n",
    "\n",
    "\n",
    "# Função para verificar chargebacks anteriores de um usuário\n",
    "def user_with_chargebacks(data, user_id):\n",
    "    \"\"\"\n",
    "    Verifica se um usuário possui chargebacks anteriores.\n",
    "\n",
    "    :param data: DataFrame contendo os dados históricos de transações.\n",
    "                 Deve conter as colunas 'user_id' (identificador do usuário) \n",
    "                 e 'has_cbk' (indicador de chargeback, com valores booleanos).\n",
    "    :param user_id: Identificador único do usuário.\n",
    "    :return: True se o usuário tiver pelo menos um chargeback, False caso contrário.\n",
    "    \"\"\"\n",
    "    \n",
    "    return len(data[(data['user_id'] == user_id) & (data['has_cbk'] == True)]) > 0"
   ]
  },
  {
   "cell_type": "code",
   "execution_count": null,
   "id": "27a32d20-d2d3-4919-b3e9-367a13923bd2",
   "metadata": {},
   "outputs": [],
   "source": []
  },
  {
   "cell_type": "code",
   "execution_count": 52,
   "id": "19a686a1-9440-43ae-9dc6-6bf97d2ee698",
   "metadata": {},
   "outputs": [],
   "source": [
    "@app.route('/analisar_transacao', methods=['POST'])\n",
    "\n",
    "def analisar_transacao():\n",
    "    # Receber a transação como JSON\n",
    "    transacao = request.json\n",
    "\n",
    "    # Extraindo informações da transação recebida\n",
    "    transaction_id = transacao.get('transaction_id')\n",
    "    merchant_id = transacao.get('merchant_id')\n",
    "    user_id = transacao.get('user_id')\n",
    "    card_number = transacao.get('card_number')\n",
    "    transaction_date = pd.to_datetime(transacao.get('transaction_date'))\n",
    "    transaction_amount = transacao.get('transaction_amount')\n",
    "    device_id = transacao.get('device_id')\n",
    "\n",
    "\n",
    "\n",
    "    # Requisição 1: Verificar se o usuário tem chargebacks anteriores\n",
    "    if short_interval_transaction_volume(data, user_id, tempo=timedelta(minutes=30)):\n",
    "        return jsonify({\n",
    "            \"transaction_id\": transaction_id,\n",
    "            \"recommendation\": \"deny\"\n",
    "        })\n",
    "    \n",
    "    # Requisição 2: Verificar se o usuário tem chargebacks anteriores\n",
    "    if user_with_chargebacks(data, user_id):\n",
    "        return jsonify({\n",
    "            \"transaction_id\": transaction_id,\n",
    "            \"recommendation\": \"deny\"\n",
    "        })\n",
    "\n",
    "    # Requisição 3: Rejeitar transações acima de um certo valor em um determinado período\n",
    "    if should_deny_transaction(transaction_amount, transaction_date, MAX_AMOUNT, START_TIME, END_TIME):\n",
    "        return jsonify({\"transaction_id\": transaction_id, \"recommendation\": \"deny\"})\n",
    "        \n",
    "    \n",
    "    # Se não houver problema, você pode adicionar mais lógica aqui\n",
    "    return jsonify({\n",
    "        \"transaction_id\": transaction_id,\n",
    "        \"recommendation\": \"approve\"\n",
    "    })"
   ]
  },
  {
   "cell_type": "code",
   "execution_count": 53,
   "id": "f2da3fa1-0fa0-4764-b30f-c73c3e3a175b",
   "metadata": {},
   "outputs": [
    {
     "name": "stdout",
     "output_type": "stream",
     "text": [
      " * Serving Flask app '__main__'\n",
      " * Debug mode: off\n"
     ]
    },
    {
     "name": "stderr",
     "output_type": "stream",
     "text": [
      "\u001b[31m\u001b[1mWARNING: This is a development server. Do not use it in a production deployment. Use a production WSGI server instead.\u001b[0m\n",
      " * Running on http://127.0.0.1:5001\n",
      "\u001b[33mPress CTRL+C to quit\u001b[0m\n",
      "127.0.0.1 - - [24/Oct/2024 14:59:36] \"POST /analisar_transacao HTTP/1.1\" 200 -\n"
     ]
    }
   ],
   "source": [
    "# Executando o servidor Flask\n",
    "if __name__ == '__main__':\n",
    "    app.run(port=5001)  # Troque para uma porta diferente, como 5001"
   ]
  },
  {
   "cell_type": "markdown",
   "id": "9da5be0f-40c6-4f3d-a17a-31c2bf981b25",
   "metadata": {},
   "source": [
    "# Abra o terminal para avaliar o output do endpoint\n",
    "\n",
    "\n",
    "curl -X POST http://127.0.0.1:5001/analisar_transacao \\\n",
    "-H \"Content-Type: application/json\" \\\n",
    "-d '{\n",
    "  \"transaction_id\": 2342357,\n",
    "  \"merchant_id\": 29744,\n",
    "  \"user_id\": 97051,\n",
    "  \"card_number\": \"434505******9116\",\n",
    "  \"transaction_date\": \"2019-11-30T23:16:32.812632\",\n",
    "  \"transaction_amount\": 1000,\n",
    "  \"device_id\": 285475\n",
    "}'"
   ]
  },
  {
   "cell_type": "code",
   "execution_count": null,
   "id": "8fd5f678-d800-4d8e-9a44-257e09511452",
   "metadata": {},
   "outputs": [],
   "source": []
  },
  {
   "cell_type": "markdown",
   "id": "474f1eb3-dedd-43e6-8046-7d72d903ae85",
   "metadata": {},
   "source": [
    "# Fim!"
   ]
  },
  {
   "cell_type": "code",
   "execution_count": null,
   "id": "033d7866-14fd-4a50-9ff8-11b7a8fcde21",
   "metadata": {},
   "outputs": [],
   "source": []
  }
 ],
 "metadata": {
  "kernelspec": {
   "display_name": "Python 3 (ipykernel)",
   "language": "python",
   "name": "python3"
  },
  "language_info": {
   "codemirror_mode": {
    "name": "ipython",
    "version": 3
   },
   "file_extension": ".py",
   "mimetype": "text/x-python",
   "name": "python",
   "nbconvert_exporter": "python",
   "pygments_lexer": "ipython3",
   "version": "3.12.1"
  }
 },
 "nbformat": 4,
 "nbformat_minor": 5
}
